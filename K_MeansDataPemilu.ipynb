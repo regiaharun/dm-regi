{
  "nbformat": 4,
  "nbformat_minor": 0,
  "metadata": {
    "colab": {
      "provenance": []
    },
    "kernelspec": {
      "name": "python3",
      "display_name": "Python 3"
    },
    "language_info": {
      "name": "python"
    }
  },
  "cells": [
    {
      "cell_type": "code",
      "execution_count": 60,
      "metadata": {
        "colab": {
          "base_uri": "https://localhost:8080/"
        },
        "id": "yUkOiL4KQrly",
        "outputId": "d135b6eb-6470-474f-f2d0-fe4678c708c1"
      },
      "outputs": [
        {
          "output_type": "stream",
          "name": "stderr",
          "text": [
            "/usr/local/lib/python3.10/dist-packages/ipykernel/ipkernel.py:283: DeprecationWarning: `should_run_async` will not call `transform_cell` automatically in the future. Please pass the result to `transformed_cell` argument and any exception that happen during thetransform in `preprocessing_exc_tuple` in IPython 7.17 and above.\n",
            "  and should_run_async(code)\n"
          ]
        }
      ],
      "source": [
        "import pandas as pd\n",
        "import numpy as np\n",
        "import matplotlib.pyplot as plt\n",
        "from sklearn.cluster import KMeans\n",
        "from sklearn.preprocessing import StandardScaler\n",
        "from sklearn.metrics import silhouette_score\n",
        "# Load the data\n",
        "data = pd.read_csv('datapemilukpu-dki-2009.csv')\n",
        "\n"
      ]
    },
    {
      "cell_type": "code",
      "source": [
        "# Data Preprocessing\n",
        "data['Suara Sah Partai'] = pd.to_numeric(data['Suara Sah Partai'], errors='coerce')\n",
        "data['Suara Sah Caleg'] = pd.to_numeric(data['Suara Sah Caleg'], errors='coerce')\n",
        "\n"
      ],
      "metadata": {
        "colab": {
          "base_uri": "https://localhost:8080/"
        },
        "id": "YUj_8w6EVRO9",
        "outputId": "a30e75d5-6760-4983-edbd-a6784c86a7af"
      },
      "execution_count": 61,
      "outputs": [
        {
          "output_type": "stream",
          "name": "stderr",
          "text": [
            "/usr/local/lib/python3.10/dist-packages/ipykernel/ipkernel.py:283: DeprecationWarning: `should_run_async` will not call `transform_cell` automatically in the future. Please pass the result to `transformed_cell` argument and any exception that happen during thetransform in `preprocessing_exc_tuple` in IPython 7.17 and above.\n",
            "  and should_run_async(code)\n"
          ]
        }
      ]
    },
    {
      "cell_type": "code",
      "source": [
        "# Exploratory Data Analysis\n",
        "print(data.describe())\n",
        "\n"
      ],
      "metadata": {
        "colab": {
          "base_uri": "https://localhost:8080/"
        },
        "id": "MZo6E-XXVYBb",
        "outputId": "b754cd23-5d70-4dc7-a829-2c64d19bc0cc"
      },
      "execution_count": 62,
      "outputs": [
        {
          "output_type": "stream",
          "name": "stdout",
          "text": [
            "                no  No Urut Parpol  Suara Sah Partai  Jumlah Perolehan Kursi  \\\n",
            "count  2268.000000     2268.000000       2262.000000             2268.000000   \n",
            "mean   1134.500000       18.888007      34897.528736                4.510141   \n",
            "std     654.859527       11.407895      63700.110360                7.774240   \n",
            "min       1.000000        1.000000        207.000000                0.000000   \n",
            "25%     567.750000        8.000000       2530.000000                0.000000   \n",
            "50%    1134.500000       20.000000       5826.000000                0.000000   \n",
            "75%    1701.250000       28.000000      35464.000000                6.000000   \n",
            "max    2268.000000       44.000000     338396.000000               32.000000   \n",
            "\n",
            "       No Urut Caleg  Suara Sah Caleg  \n",
            "count    2268.000000      2253.000000  \n",
            "mean        8.897707       936.880160  \n",
            "std         6.916168      2475.027225  \n",
            "min         1.000000         0.000000  \n",
            "25%         4.000000        67.000000  \n",
            "50%         7.000000       207.000000  \n",
            "75%        12.000000       732.000000  \n",
            "max        35.000000     56595.000000  \n"
          ]
        },
        {
          "output_type": "stream",
          "name": "stderr",
          "text": [
            "/usr/local/lib/python3.10/dist-packages/ipykernel/ipkernel.py:283: DeprecationWarning: `should_run_async` will not call `transform_cell` automatically in the future. Please pass the result to `transformed_cell` argument and any exception that happen during thetransform in `preprocessing_exc_tuple` in IPython 7.17 and above.\n",
            "  and should_run_async(code)\n"
          ]
        }
      ]
    },
    {
      "cell_type": "code",
      "source": [
        "# Select features for clustering\n",
        "features = ['Suara Sah Partai', 'Suara Sah Caleg']\n",
        "X = data[features]\n"
      ],
      "metadata": {
        "colab": {
          "base_uri": "https://localhost:8080/"
        },
        "id": "bxPVdDwaVcWC",
        "outputId": "05f44086-04fc-4c17-bca1-ff5f25b4a24e"
      },
      "execution_count": 63,
      "outputs": [
        {
          "output_type": "stream",
          "name": "stderr",
          "text": [
            "/usr/local/lib/python3.10/dist-packages/ipykernel/ipkernel.py:283: DeprecationWarning: `should_run_async` will not call `transform_cell` automatically in the future. Please pass the result to `transformed_cell` argument and any exception that happen during thetransform in `preprocessing_exc_tuple` in IPython 7.17 and above.\n",
            "  and should_run_async(code)\n"
          ]
        }
      ]
    },
    {
      "cell_type": "code",
      "source": [
        "# Instead of dropping NaN values, we'll fill them with the mean\n",
        "X = X.fillna(X.mean())"
      ],
      "metadata": {
        "colab": {
          "base_uri": "https://localhost:8080/"
        },
        "id": "9kr_TQg9Vf6B",
        "outputId": "850d097b-d742-47e4-aeb4-10cc2c9d95e5"
      },
      "execution_count": 64,
      "outputs": [
        {
          "output_type": "stream",
          "name": "stderr",
          "text": [
            "/usr/local/lib/python3.10/dist-packages/ipykernel/ipkernel.py:283: DeprecationWarning: `should_run_async` will not call `transform_cell` automatically in the future. Please pass the result to `transformed_cell` argument and any exception that happen during thetransform in `preprocessing_exc_tuple` in IPython 7.17 and above.\n",
            "  and should_run_async(code)\n"
          ]
        }
      ]
    },
    {
      "cell_type": "code",
      "source": [
        "# Standardize the features\n",
        "scaler = StandardScaler()\n",
        "X_scaled = scaler.fit_transform(X)"
      ],
      "metadata": {
        "colab": {
          "base_uri": "https://localhost:8080/"
        },
        "id": "B2_JUmkzVwWb",
        "outputId": "d29c3f39-a4f0-472c-8b09-1b2669cc67cb"
      },
      "execution_count": 65,
      "outputs": [
        {
          "output_type": "stream",
          "name": "stderr",
          "text": [
            "/usr/local/lib/python3.10/dist-packages/ipykernel/ipkernel.py:283: DeprecationWarning: `should_run_async` will not call `transform_cell` automatically in the future. Please pass the result to `transformed_cell` argument and any exception that happen during thetransform in `preprocessing_exc_tuple` in IPython 7.17 and above.\n",
            "  and should_run_async(code)\n"
          ]
        }
      ]
    },
    {
      "cell_type": "code",
      "source": [
        "# Function to compute WCSS (Within-Cluster Sum of Squares)\n",
        "def compute_wcss(data):\n",
        "    wcss = []\n",
        "    for n in range(1, 11):\n",
        "        kmeans = KMeans(n_clusters=n, random_state=42)\n",
        "        kmeans.fit(data)\n",
        "        wcss.append(kmeans.inertia_)\n",
        "    return wcss"
      ],
      "metadata": {
        "colab": {
          "base_uri": "https://localhost:8080/"
        },
        "id": "amwGWwE7Y03v",
        "outputId": "bf3c3abc-27d1-430a-84e8-97eca8f9bd14"
      },
      "execution_count": 66,
      "outputs": [
        {
          "output_type": "stream",
          "name": "stderr",
          "text": [
            "/usr/local/lib/python3.10/dist-packages/ipykernel/ipkernel.py:283: DeprecationWarning: `should_run_async` will not call `transform_cell` automatically in the future. Please pass the result to `transformed_cell` argument and any exception that happen during thetransform in `preprocessing_exc_tuple` in IPython 7.17 and above.\n",
            "  and should_run_async(code)\n"
          ]
        }
      ]
    },
    {
      "cell_type": "code",
      "source": [
        "# Compute WCSS for different numbers of clusters\n",
        "wcss = compute_wcss(X_scaled)"
      ],
      "metadata": {
        "colab": {
          "base_uri": "https://localhost:8080/"
        },
        "id": "HWIe8tjhY7xO",
        "outputId": "7fce8e9c-d183-43a1-9f36-206cb2c9eee0"
      },
      "execution_count": 67,
      "outputs": [
        {
          "output_type": "stream",
          "name": "stderr",
          "text": [
            "/usr/local/lib/python3.10/dist-packages/ipykernel/ipkernel.py:283: DeprecationWarning: `should_run_async` will not call `transform_cell` automatically in the future. Please pass the result to `transformed_cell` argument and any exception that happen during thetransform in `preprocessing_exc_tuple` in IPython 7.17 and above.\n",
            "  and should_run_async(code)\n"
          ]
        }
      ]
    },
    {
      "cell_type": "code",
      "source": [
        "# Plot the Elbow Curve\n",
        "plt.figure(figsize=(10, 6))\n",
        "plt.plot(range(1, 11), wcss, marker='o')\n",
        "plt.title('Elbow Method')\n",
        "plt.xlabel('Number of clusters')\n",
        "plt.ylabel('WCSS')\n",
        "plt.savefig('elbow_curve.png')\n",
        "plt.close()"
      ],
      "metadata": {
        "colab": {
          "base_uri": "https://localhost:8080/"
        },
        "id": "PzSGhFFhY9mw",
        "outputId": "d54c85d4-a4d6-4cc9-c50a-366e5e7eb965"
      },
      "execution_count": 68,
      "outputs": [
        {
          "output_type": "stream",
          "name": "stderr",
          "text": [
            "/usr/local/lib/python3.10/dist-packages/ipykernel/ipkernel.py:283: DeprecationWarning: `should_run_async` will not call `transform_cell` automatically in the future. Please pass the result to `transformed_cell` argument and any exception that happen during thetransform in `preprocessing_exc_tuple` in IPython 7.17 and above.\n",
            "  and should_run_async(code)\n"
          ]
        }
      ]
    },
    {
      "cell_type": "code",
      "source": [
        "# Choose the optimal number of clusters (let's say 3 for this example)\n",
        "n_clusters = 3"
      ],
      "metadata": {
        "colab": {
          "base_uri": "https://localhost:8080/"
        },
        "id": "03Y48Ap9ZDZu",
        "outputId": "d02f2c51-bae9-4ff6-ec8b-3759f92283bd"
      },
      "execution_count": 69,
      "outputs": [
        {
          "output_type": "stream",
          "name": "stderr",
          "text": [
            "/usr/local/lib/python3.10/dist-packages/ipykernel/ipkernel.py:283: DeprecationWarning: `should_run_async` will not call `transform_cell` automatically in the future. Please pass the result to `transformed_cell` argument and any exception that happen during thetransform in `preprocessing_exc_tuple` in IPython 7.17 and above.\n",
            "  and should_run_async(code)\n"
          ]
        }
      ]
    },
    {
      "cell_type": "code",
      "source": [
        "# Apply K-means\n",
        "kmeans = KMeans(n_clusters=n_clusters, random_state=42)\n",
        "cluster_labels = kmeans.fit_predict(X_scaled)"
      ],
      "metadata": {
        "colab": {
          "base_uri": "https://localhost:8080/"
        },
        "id": "59jxJY-sZHqY",
        "outputId": "609fc116-9993-4ecf-ed0b-37a157b1384e"
      },
      "execution_count": 70,
      "outputs": [
        {
          "output_type": "stream",
          "name": "stderr",
          "text": [
            "/usr/local/lib/python3.10/dist-packages/ipykernel/ipkernel.py:283: DeprecationWarning: `should_run_async` will not call `transform_cell` automatically in the future. Please pass the result to `transformed_cell` argument and any exception that happen during thetransform in `preprocessing_exc_tuple` in IPython 7.17 and above.\n",
            "  and should_run_async(code)\n"
          ]
        }
      ]
    },
    {
      "cell_type": "code",
      "source": [
        "# Add cluster labels to the original dataframe\n",
        "data['Cluster'] = cluster_labels"
      ],
      "metadata": {
        "colab": {
          "base_uri": "https://localhost:8080/"
        },
        "id": "kANOiePIZOv5",
        "outputId": "59194c48-c68d-496c-f5dc-2f07e436910e"
      },
      "execution_count": 71,
      "outputs": [
        {
          "output_type": "stream",
          "name": "stderr",
          "text": [
            "/usr/local/lib/python3.10/dist-packages/ipykernel/ipkernel.py:283: DeprecationWarning: `should_run_async` will not call `transform_cell` automatically in the future. Please pass the result to `transformed_cell` argument and any exception that happen during thetransform in `preprocessing_exc_tuple` in IPython 7.17 and above.\n",
            "  and should_run_async(code)\n"
          ]
        }
      ]
    },
    {
      "cell_type": "code",
      "source": [
        "# Visualize the clusters\n",
        "plt.figure(figsize=(12, 8))\n",
        "scatter = plt.scatter(data['Suara Sah Partai'], data['Suara Sah Caleg'],\n",
        "                      c=data['Cluster'], cmap='viridis', alpha=0.7)\n",
        "plt.title('K-means Clustering of Candidates')\n",
        "plt.xlabel('Suara Sah Partai')\n",
        "plt.ylabel('Suara Sah Caleg')\n",
        "plt.colorbar(scatter)\n",
        "plt.savefig('kmeans_clustering.png')\n",
        "plt.close()"
      ],
      "metadata": {
        "colab": {
          "base_uri": "https://localhost:8080/"
        },
        "id": "wYXsohvGZUZk",
        "outputId": "d9f2a50e-fe29-425b-ba98-0a541cc0b90a"
      },
      "execution_count": 72,
      "outputs": [
        {
          "output_type": "stream",
          "name": "stderr",
          "text": [
            "/usr/local/lib/python3.10/dist-packages/ipykernel/ipkernel.py:283: DeprecationWarning: `should_run_async` will not call `transform_cell` automatically in the future. Please pass the result to `transformed_cell` argument and any exception that happen during thetransform in `preprocessing_exc_tuple` in IPython 7.17 and above.\n",
            "  and should_run_async(code)\n"
          ]
        }
      ]
    },
    {
      "cell_type": "code",
      "source": [
        "# Calculate silhouette score\n",
        "silhouette_avg = silhouette_score(X_scaled, cluster_labels)\n",
        "print(f\"The average silhouette score is: {silhouette_avg}\")\n"
      ],
      "metadata": {
        "colab": {
          "base_uri": "https://localhost:8080/"
        },
        "id": "O6Bjw6vdZXiN",
        "outputId": "436a9bf2-d647-424a-cafd-f34955591f24"
      },
      "execution_count": 73,
      "outputs": [
        {
          "output_type": "stream",
          "name": "stdout",
          "text": [
            "The average silhouette score is: 0.8048208231037867\n"
          ]
        },
        {
          "output_type": "stream",
          "name": "stderr",
          "text": [
            "/usr/local/lib/python3.10/dist-packages/ipykernel/ipkernel.py:283: DeprecationWarning: `should_run_async` will not call `transform_cell` automatically in the future. Please pass the result to `transformed_cell` argument and any exception that happen during thetransform in `preprocessing_exc_tuple` in IPython 7.17 and above.\n",
            "  and should_run_async(code)\n"
          ]
        }
      ]
    },
    {
      "cell_type": "code",
      "source": [
        "# Analyze clusters\n",
        "for i in range(n_clusters):\n",
        "    cluster_data = data[data['Cluster'] == i]\n",
        "    print(f\"\\nCluster {i}:\")\n",
        "    print(f\"Number of candidates: {len(cluster_data)}\")\n",
        "    print(f\"Average party votes: {cluster_data['Suara Sah Partai'].mean():.2f}\")\n",
        "    print(f\"Average candidate votes: {cluster_data['Suara Sah Caleg'].mean():.2f}\")\n",
        "    print(\"Top parties:\")\n",
        "    print(cluster_data['Nama Partai'].value_counts().head())\n",
        "    print(\"\\n---\")"
      ],
      "metadata": {
        "colab": {
          "base_uri": "https://localhost:8080/"
        },
        "id": "a0PVSTG4ZcYY",
        "outputId": "7d4a3fed-c55a-4d60-b60e-d00e25f5f7a5"
      },
      "execution_count": 74,
      "outputs": [
        {
          "output_type": "stream",
          "name": "stdout",
          "text": [
            "\n",
            "Cluster 0:\n",
            "Number of candidates: 2087\n",
            "Average party votes: 18756.54\n",
            "Average candidate votes: 537.50\n",
            "Top parties:\n",
            "Nama Partai\n",
            "Partai Hati Nurani Rakyat                112\n",
            " Partai Golkar                           111\n",
            "Partai Amanat Nasional                   110\n",
            "Partai Demokrasi Indonesia Perjuangan    106\n",
            " Partai Persatuan Pembangunan            103\n",
            "Name: count, dtype: int64\n",
            "\n",
            "---\n",
            "\n",
            "Cluster 1:\n",
            "Number of candidates: 148\n",
            "Average party votes: 231322.53\n",
            "Average candidate votes: 3240.41\n",
            "Top parties:\n",
            "Nama Partai\n",
            "Partai Demokrat                          96\n",
            "Partai Keadilan Sejahtera                50\n",
            "Partai Demokrasi Indonesia Perjuangan     2\n",
            "Name: count, dtype: int64\n",
            "\n",
            "---\n",
            "\n",
            "Cluster 2:\n",
            "Number of candidates: 33\n",
            "Average party votes: 171821.58\n",
            "Average candidate votes: 15764.24\n",
            "Top parties:\n",
            "Nama Partai\n",
            "Partai Demokrat                          17\n",
            "Partai Keadilan Sejahtera                 8\n",
            "Partai Demokrasi Indonesia Perjuangan     4\n",
            " Partai Golkar                            2\n",
            "Partai Kebangkitan Bangsa                 1\n",
            "Name: count, dtype: int64\n",
            "\n",
            "---\n"
          ]
        },
        {
          "output_type": "stream",
          "name": "stderr",
          "text": [
            "/usr/local/lib/python3.10/dist-packages/ipykernel/ipkernel.py:283: DeprecationWarning: `should_run_async` will not call `transform_cell` automatically in the future. Please pass the result to `transformed_cell` argument and any exception that happen during thetransform in `preprocessing_exc_tuple` in IPython 7.17 and above.\n",
            "  and should_run_async(code)\n"
          ]
        }
      ]
    },
    {
      "cell_type": "code",
      "source": [
        "# Save clustered data\n",
        "data.to_csv('clustered_election_data.csv', index=False)"
      ],
      "metadata": {
        "colab": {
          "base_uri": "https://localhost:8080/"
        },
        "id": "w8FuSWmZZfCx",
        "outputId": "50383a00-f185-420a-f688-afa48359579e"
      },
      "execution_count": 75,
      "outputs": [
        {
          "output_type": "stream",
          "name": "stderr",
          "text": [
            "/usr/local/lib/python3.10/dist-packages/ipykernel/ipkernel.py:283: DeprecationWarning: `should_run_async` will not call `transform_cell` automatically in the future. Please pass the result to `transformed_cell` argument and any exception that happen during thetransform in `preprocessing_exc_tuple` in IPython 7.17 and above.\n",
            "  and should_run_async(code)\n"
          ]
        }
      ]
    },
    {
      "cell_type": "markdown",
      "source": [],
      "metadata": {
        "id": "b-M7SA_eQz6n"
      }
    }
  ]
}